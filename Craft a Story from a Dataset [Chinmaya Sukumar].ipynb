{
 "cells": [
  {
   "cell_type": "markdown",
   "id": "276f826a",
   "metadata": {},
   "source": [
    "# Correlations between Immigration and Real GDP in Britain "
   ]
  },
  {
   "cell_type": "markdown",
   "id": "b80bc883",
   "metadata": {},
   "source": [
    "### It is a common stereotype that immigrants do not contribute to the economy and may in fact be a burden to the economy. The following is an exercise to visualize the data regarding the concentration of immigrants in Britain since World War 2 up until 2016 and it's impact on her real GDP."
   ]
  },
  {
   "cell_type": "markdown",
   "id": "199a6f84",
   "metadata": {},
   "source": [
    "#### Importing data and libraries"
   ]
  },
  {
   "cell_type": "code",
   "execution_count": 89,
   "id": "faabadc5",
   "metadata": {},
   "outputs": [],
   "source": [
    "import numpy as np\n",
    "from numpy import corrcoef\n",
    "import pandas as pd\n",
    "import matplotlib.pyplot as plt\n",
    "from sklearn.linear_model import LinearRegression"
   ]
  },
  {
   "cell_type": "code",
   "execution_count": 2,
   "id": "43b53b87",
   "metadata": {},
   "outputs": [],
   "source": [
    "migration = pd.read_excel('/Users/chinmayasukumar/Documents/Springboard/Unit 20/archive-4/millenniumofdata_v3_final.xlsx'\\\n",
    "                    , sheet_name='A19. Migration flows')"
   ]
  },
  {
   "cell_type": "code",
   "execution_count": 3,
   "id": "6c3b24ba",
   "metadata": {},
   "outputs": [],
   "source": [
    "gdp = pd.read_excel('/Users/chinmayasukumar/Documents/Springboard/Unit 20/archive-4/millenniumofdata_v3_final.xlsx'\\\n",
    "                   , sheet_name='A21. GDP per capita 1086+')"
   ]
  },
  {
   "cell_type": "code",
   "execution_count": 4,
   "id": "394ca7b7",
   "metadata": {},
   "outputs": [
    {
     "data": {
      "text/html": [
       "<div>\n",
       "<style scoped>\n",
       "    .dataframe tbody tr th:only-of-type {\n",
       "        vertical-align: middle;\n",
       "    }\n",
       "\n",
       "    .dataframe tbody tr th {\n",
       "        vertical-align: top;\n",
       "    }\n",
       "\n",
       "    .dataframe thead th {\n",
       "        text-align: right;\n",
       "    }\n",
       "</style>\n",
       "<table border=\"1\" class=\"dataframe\">\n",
       "  <thead>\n",
       "    <tr style=\"text-align: right;\">\n",
       "      <th></th>\n",
       "      <th>Unnamed: 0</th>\n",
       "      <th>Immigration</th>\n",
       "      <th>Emigration</th>\n",
       "      <th>Net Migration</th>\n",
       "      <th>Unnamed: 4</th>\n",
       "      <th>UK Population</th>\n",
       "      <th>Unnamed: 6</th>\n",
       "      <th>Immigration.1</th>\n",
       "      <th>Emigration.1</th>\n",
       "      <th>Net Migration.1</th>\n",
       "      <th>...</th>\n",
       "      <th>Unnamed: 18</th>\n",
       "      <th>Unnamed: 19</th>\n",
       "      <th>Unnamed: 20</th>\n",
       "      <th>Unnamed: 21</th>\n",
       "      <th>Unnamed: 22</th>\n",
       "      <th>Unnamed: 23</th>\n",
       "      <th>Unnamed: 24</th>\n",
       "      <th>Unnamed: 25</th>\n",
       "      <th>Unnamed: 26</th>\n",
       "      <th>Unnamed: 27</th>\n",
       "    </tr>\n",
       "  </thead>\n",
       "  <tbody>\n",
       "    <tr>\n",
       "      <th>0</th>\n",
       "      <td>1850</td>\n",
       "      <td>NaN</td>\n",
       "      <td>NaN</td>\n",
       "      <td>NaN</td>\n",
       "      <td>NaN</td>\n",
       "      <td>27524.324</td>\n",
       "      <td>NaN</td>\n",
       "      <td>NaN</td>\n",
       "      <td>NaN</td>\n",
       "      <td>NaN</td>\n",
       "      <td>...</td>\n",
       "      <td>NaN</td>\n",
       "      <td>NaN</td>\n",
       "      <td>NaN</td>\n",
       "      <td>NaN</td>\n",
       "      <td>NaN</td>\n",
       "      <td>NaN</td>\n",
       "      <td>NaN</td>\n",
       "      <td>NaN</td>\n",
       "      <td>NaN</td>\n",
       "      <td>NaN</td>\n",
       "    </tr>\n",
       "    <tr>\n",
       "      <th>1</th>\n",
       "      <td>1851</td>\n",
       "      <td>NaN</td>\n",
       "      <td>NaN</td>\n",
       "      <td>NaN</td>\n",
       "      <td>NaN</td>\n",
       "      <td>27392.849</td>\n",
       "      <td>NaN</td>\n",
       "      <td>NaN</td>\n",
       "      <td>NaN</td>\n",
       "      <td>NaN</td>\n",
       "      <td>...</td>\n",
       "      <td>NaN</td>\n",
       "      <td>NaN</td>\n",
       "      <td>NaN</td>\n",
       "      <td>NaN</td>\n",
       "      <td>NaN</td>\n",
       "      <td>NaN</td>\n",
       "      <td>NaN</td>\n",
       "      <td>NaN</td>\n",
       "      <td>NaN</td>\n",
       "      <td>NaN</td>\n",
       "    </tr>\n",
       "    <tr>\n",
       "      <th>2</th>\n",
       "      <td>1852</td>\n",
       "      <td>NaN</td>\n",
       "      <td>NaN</td>\n",
       "      <td>NaN</td>\n",
       "      <td>NaN</td>\n",
       "      <td>27448.206</td>\n",
       "      <td>NaN</td>\n",
       "      <td>NaN</td>\n",
       "      <td>NaN</td>\n",
       "      <td>NaN</td>\n",
       "      <td>...</td>\n",
       "      <td>NaN</td>\n",
       "      <td>NaN</td>\n",
       "      <td>NaN</td>\n",
       "      <td>NaN</td>\n",
       "      <td>NaN</td>\n",
       "      <td>NaN</td>\n",
       "      <td>NaN</td>\n",
       "      <td>NaN</td>\n",
       "      <td>NaN</td>\n",
       "      <td>NaN</td>\n",
       "    </tr>\n",
       "    <tr>\n",
       "      <th>3</th>\n",
       "      <td>1853</td>\n",
       "      <td>NaN</td>\n",
       "      <td>330.0</td>\n",
       "      <td>NaN</td>\n",
       "      <td>NaN</td>\n",
       "      <td>27542.368</td>\n",
       "      <td>NaN</td>\n",
       "      <td>NaN</td>\n",
       "      <td>NaN</td>\n",
       "      <td>NaN</td>\n",
       "      <td>...</td>\n",
       "      <td>NaN</td>\n",
       "      <td>NaN</td>\n",
       "      <td>NaN</td>\n",
       "      <td>NaN</td>\n",
       "      <td>NaN</td>\n",
       "      <td>NaN</td>\n",
       "      <td>NaN</td>\n",
       "      <td>330.0</td>\n",
       "      <td>NaN</td>\n",
       "      <td>NaN</td>\n",
       "    </tr>\n",
       "    <tr>\n",
       "      <th>4</th>\n",
       "      <td>1854</td>\n",
       "      <td>NaN</td>\n",
       "      <td>323.0</td>\n",
       "      <td>NaN</td>\n",
       "      <td>NaN</td>\n",
       "      <td>27658.310</td>\n",
       "      <td>NaN</td>\n",
       "      <td>NaN</td>\n",
       "      <td>NaN</td>\n",
       "      <td>NaN</td>\n",
       "      <td>...</td>\n",
       "      <td>NaN</td>\n",
       "      <td>NaN</td>\n",
       "      <td>NaN</td>\n",
       "      <td>NaN</td>\n",
       "      <td>NaN</td>\n",
       "      <td>NaN</td>\n",
       "      <td>NaN</td>\n",
       "      <td>323.0</td>\n",
       "      <td>NaN</td>\n",
       "      <td>NaN</td>\n",
       "    </tr>\n",
       "  </tbody>\n",
       "</table>\n",
       "<p>5 rows × 28 columns</p>\n",
       "</div>"
      ],
      "text/plain": [
       "   Unnamed: 0  Immigration  Emigration  Net Migration  Unnamed: 4  \\\n",
       "0        1850          NaN         NaN            NaN         NaN   \n",
       "1        1851          NaN         NaN            NaN         NaN   \n",
       "2        1852          NaN         NaN            NaN         NaN   \n",
       "3        1853          NaN       330.0            NaN         NaN   \n",
       "4        1854          NaN       323.0            NaN         NaN   \n",
       "\n",
       "   UK Population  Unnamed: 6  Immigration.1  Emigration.1  Net Migration.1  \\\n",
       "0      27524.324         NaN            NaN           NaN              NaN   \n",
       "1      27392.849         NaN            NaN           NaN              NaN   \n",
       "2      27448.206         NaN            NaN           NaN              NaN   \n",
       "3      27542.368         NaN            NaN           NaN              NaN   \n",
       "4      27658.310         NaN            NaN           NaN              NaN   \n",
       "\n",
       "   ...  Unnamed: 18  Unnamed: 19  Unnamed: 20  Unnamed: 21  Unnamed: 22  \\\n",
       "0  ...          NaN          NaN          NaN          NaN          NaN   \n",
       "1  ...          NaN          NaN          NaN          NaN          NaN   \n",
       "2  ...          NaN          NaN          NaN          NaN          NaN   \n",
       "3  ...          NaN          NaN          NaN          NaN          NaN   \n",
       "4  ...          NaN          NaN          NaN          NaN          NaN   \n",
       "\n",
       "   Unnamed: 23  Unnamed: 24  Unnamed: 25  Unnamed: 26  Unnamed: 27  \n",
       "0          NaN          NaN          NaN          NaN          NaN  \n",
       "1          NaN          NaN          NaN          NaN          NaN  \n",
       "2          NaN          NaN          NaN          NaN          NaN  \n",
       "3          NaN          NaN        330.0          NaN          NaN  \n",
       "4          NaN          NaN        323.0          NaN          NaN  \n",
       "\n",
       "[5 rows x 28 columns]"
      ]
     },
     "execution_count": 4,
     "metadata": {},
     "output_type": "execute_result"
    }
   ],
   "source": [
    "migration.head()"
   ]
  },
  {
   "cell_type": "code",
   "execution_count": 5,
   "id": "bb4a4198",
   "metadata": {
    "scrolled": true
   },
   "outputs": [],
   "source": [
    "migration = migration.rename(columns={'Unnamed: 0':'Year'})"
   ]
  },
  {
   "cell_type": "markdown",
   "id": "841eccd3",
   "metadata": {},
   "source": [
    "#### This exercise will take into consideration the years following World War 2 since immigration from visible minorities was small if not insignificant before then."
   ]
  },
  {
   "cell_type": "code",
   "execution_count": 7,
   "id": "54328093",
   "metadata": {},
   "outputs": [],
   "source": [
    "migration = migration[migration.Year >= 1947]"
   ]
  },
  {
   "cell_type": "code",
   "execution_count": 8,
   "id": "d29da47a",
   "metadata": {},
   "outputs": [],
   "source": [
    "net_m = migration.iloc[:,0:4]"
   ]
  },
  {
   "cell_type": "code",
   "execution_count": 10,
   "id": "58a4199c",
   "metadata": {},
   "outputs": [],
   "source": [
    "net_m = net_m.rename(columns={'Immigration':'immigration','Emigration':'emigration', 'Net Migration':'net_m'})"
   ]
  },
  {
   "cell_type": "code",
   "execution_count": 12,
   "id": "90284fa3",
   "metadata": {},
   "outputs": [
    {
     "data": {
      "text/html": [
       "<div>\n",
       "<style scoped>\n",
       "    .dataframe tbody tr th:only-of-type {\n",
       "        vertical-align: middle;\n",
       "    }\n",
       "\n",
       "    .dataframe tbody tr th {\n",
       "        vertical-align: top;\n",
       "    }\n",
       "\n",
       "    .dataframe thead th {\n",
       "        text-align: right;\n",
       "    }\n",
       "</style>\n",
       "<table border=\"1\" class=\"dataframe\">\n",
       "  <thead>\n",
       "    <tr style=\"text-align: right;\">\n",
       "      <th></th>\n",
       "      <th>Unnamed: 0</th>\n",
       "      <th>Nominal GDP at market prices</th>\n",
       "      <th>Factor cost adjustment 1270-1700, assuming direct taxes on land are a tax on production</th>\n",
       "      <th>Nominal GDP at factor cost</th>\n",
       "      <th>Real GDP, 2013 market prices</th>\n",
       "      <th>Real GDP, at 2013 factor cost</th>\n",
       "      <th>Population</th>\n",
       "      <th>Nominal GDP per capita</th>\n",
       "      <th>Real GDP per capita</th>\n",
       "      <th>GDP deflator at market prices</th>\n",
       "      <th>...</th>\n",
       "      <th>Nominal GDP per capita.2</th>\n",
       "      <th>Real GDP per capita.2</th>\n",
       "      <th>GDP deflator.1</th>\n",
       "      <th>Unnamed: 25</th>\n",
       "      <th>Nominal GDP.2</th>\n",
       "      <th>Real GDP, 2013 prices (using GB+NI GDP deflator)</th>\n",
       "      <th>Population.3</th>\n",
       "      <th>Nominal GDP per capita.3</th>\n",
       "      <th>Real GDP per capita.3</th>\n",
       "      <th>GDP deflator.2</th>\n",
       "    </tr>\n",
       "  </thead>\n",
       "  <tbody>\n",
       "    <tr>\n",
       "      <th>0</th>\n",
       "      <td>1086</td>\n",
       "      <td>NaN</td>\n",
       "      <td>NaN</td>\n",
       "      <td>0.43025</td>\n",
       "      <td>NaN</td>\n",
       "      <td>NaN</td>\n",
       "      <td>1.710000</td>\n",
       "      <td>NaN</td>\n",
       "      <td>NaN</td>\n",
       "      <td>NaN</td>\n",
       "      <td>...</td>\n",
       "      <td>NaN</td>\n",
       "      <td>NaN</td>\n",
       "      <td>NaN</td>\n",
       "      <td>NaN</td>\n",
       "      <td>NaN</td>\n",
       "      <td>NaN</td>\n",
       "      <td>NaN</td>\n",
       "      <td>NaN</td>\n",
       "      <td>NaN</td>\n",
       "      <td>NaN</td>\n",
       "    </tr>\n",
       "    <tr>\n",
       "      <th>1</th>\n",
       "      <td>1087</td>\n",
       "      <td>NaN</td>\n",
       "      <td>NaN</td>\n",
       "      <td>NaN</td>\n",
       "      <td>NaN</td>\n",
       "      <td>NaN</td>\n",
       "      <td>1.719810</td>\n",
       "      <td>NaN</td>\n",
       "      <td>NaN</td>\n",
       "      <td>NaN</td>\n",
       "      <td>...</td>\n",
       "      <td>NaN</td>\n",
       "      <td>NaN</td>\n",
       "      <td>NaN</td>\n",
       "      <td>NaN</td>\n",
       "      <td>NaN</td>\n",
       "      <td>NaN</td>\n",
       "      <td>NaN</td>\n",
       "      <td>NaN</td>\n",
       "      <td>NaN</td>\n",
       "      <td>NaN</td>\n",
       "    </tr>\n",
       "    <tr>\n",
       "      <th>2</th>\n",
       "      <td>1088</td>\n",
       "      <td>NaN</td>\n",
       "      <td>NaN</td>\n",
       "      <td>NaN</td>\n",
       "      <td>NaN</td>\n",
       "      <td>NaN</td>\n",
       "      <td>1.729676</td>\n",
       "      <td>NaN</td>\n",
       "      <td>NaN</td>\n",
       "      <td>NaN</td>\n",
       "      <td>...</td>\n",
       "      <td>NaN</td>\n",
       "      <td>NaN</td>\n",
       "      <td>NaN</td>\n",
       "      <td>NaN</td>\n",
       "      <td>NaN</td>\n",
       "      <td>NaN</td>\n",
       "      <td>NaN</td>\n",
       "      <td>NaN</td>\n",
       "      <td>NaN</td>\n",
       "      <td>NaN</td>\n",
       "    </tr>\n",
       "    <tr>\n",
       "      <th>3</th>\n",
       "      <td>1089</td>\n",
       "      <td>NaN</td>\n",
       "      <td>NaN</td>\n",
       "      <td>NaN</td>\n",
       "      <td>NaN</td>\n",
       "      <td>NaN</td>\n",
       "      <td>1.739598</td>\n",
       "      <td>NaN</td>\n",
       "      <td>NaN</td>\n",
       "      <td>NaN</td>\n",
       "      <td>...</td>\n",
       "      <td>NaN</td>\n",
       "      <td>NaN</td>\n",
       "      <td>NaN</td>\n",
       "      <td>NaN</td>\n",
       "      <td>NaN</td>\n",
       "      <td>NaN</td>\n",
       "      <td>NaN</td>\n",
       "      <td>NaN</td>\n",
       "      <td>NaN</td>\n",
       "      <td>NaN</td>\n",
       "    </tr>\n",
       "    <tr>\n",
       "      <th>4</th>\n",
       "      <td>1090</td>\n",
       "      <td>NaN</td>\n",
       "      <td>NaN</td>\n",
       "      <td>NaN</td>\n",
       "      <td>NaN</td>\n",
       "      <td>NaN</td>\n",
       "      <td>1.749578</td>\n",
       "      <td>NaN</td>\n",
       "      <td>NaN</td>\n",
       "      <td>NaN</td>\n",
       "      <td>...</td>\n",
       "      <td>NaN</td>\n",
       "      <td>NaN</td>\n",
       "      <td>NaN</td>\n",
       "      <td>NaN</td>\n",
       "      <td>NaN</td>\n",
       "      <td>NaN</td>\n",
       "      <td>NaN</td>\n",
       "      <td>NaN</td>\n",
       "      <td>NaN</td>\n",
       "      <td>NaN</td>\n",
       "    </tr>\n",
       "  </tbody>\n",
       "</table>\n",
       "<p>5 rows × 32 columns</p>\n",
       "</div>"
      ],
      "text/plain": [
       "   Unnamed: 0  Nominal GDP at market prices  \\\n",
       "0        1086                           NaN   \n",
       "1        1087                           NaN   \n",
       "2        1088                           NaN   \n",
       "3        1089                           NaN   \n",
       "4        1090                           NaN   \n",
       "\n",
       "   Factor cost adjustment 1270-1700, assuming direct taxes on land are a tax on production  \\\n",
       "0                                                NaN                                         \n",
       "1                                                NaN                                         \n",
       "2                                                NaN                                         \n",
       "3                                                NaN                                         \n",
       "4                                                NaN                                         \n",
       "\n",
       "   Nominal GDP at factor cost  Real GDP, 2013 market prices  \\\n",
       "0                     0.43025                           NaN   \n",
       "1                         NaN                           NaN   \n",
       "2                         NaN                           NaN   \n",
       "3                         NaN                           NaN   \n",
       "4                         NaN                           NaN   \n",
       "\n",
       "   Real GDP, at 2013 factor cost  Population  Nominal GDP per capita  \\\n",
       "0                            NaN    1.710000                     NaN   \n",
       "1                            NaN    1.719810                     NaN   \n",
       "2                            NaN    1.729676                     NaN   \n",
       "3                            NaN    1.739598                     NaN   \n",
       "4                            NaN    1.749578                     NaN   \n",
       "\n",
       "   Real GDP per capita  GDP deflator at market prices  ...  \\\n",
       "0                  NaN                            NaN  ...   \n",
       "1                  NaN                            NaN  ...   \n",
       "2                  NaN                            NaN  ...   \n",
       "3                  NaN                            NaN  ...   \n",
       "4                  NaN                            NaN  ...   \n",
       "\n",
       "   Nominal GDP per capita.2  Real GDP per capita.2  GDP deflator.1  \\\n",
       "0                       NaN                    NaN             NaN   \n",
       "1                       NaN                    NaN             NaN   \n",
       "2                       NaN                    NaN             NaN   \n",
       "3                       NaN                    NaN             NaN   \n",
       "4                       NaN                    NaN             NaN   \n",
       "\n",
       "   Unnamed: 25  Nominal GDP.2  \\\n",
       "0          NaN            NaN   \n",
       "1          NaN            NaN   \n",
       "2          NaN            NaN   \n",
       "3          NaN            NaN   \n",
       "4          NaN            NaN   \n",
       "\n",
       "   Real GDP, 2013 prices (using GB+NI GDP deflator)  Population.3  \\\n",
       "0                                               NaN           NaN   \n",
       "1                                               NaN           NaN   \n",
       "2                                               NaN           NaN   \n",
       "3                                               NaN           NaN   \n",
       "4                                               NaN           NaN   \n",
       "\n",
       "   Nominal GDP per capita.3  Real GDP per capita.3  GDP deflator.2  \n",
       "0                       NaN                    NaN             NaN  \n",
       "1                       NaN                    NaN             NaN  \n",
       "2                       NaN                    NaN             NaN  \n",
       "3                       NaN                    NaN             NaN  \n",
       "4                       NaN                    NaN             NaN  \n",
       "\n",
       "[5 rows x 32 columns]"
      ]
     },
     "execution_count": 12,
     "metadata": {},
     "output_type": "execute_result"
    }
   ],
   "source": [
    "gdp.head()"
   ]
  },
  {
   "cell_type": "code",
   "execution_count": 13,
   "id": "d74b7997",
   "metadata": {},
   "outputs": [],
   "source": [
    "gdp = gdp.rename(columns={'Unnamed: 0':'Year', 'Real GDP, 2013 market prices':'r_gdp', \\\n",
    "                          'Real GDP per capita':'r_gdp_pc'})"
   ]
  },
  {
   "cell_type": "code",
   "execution_count": 14,
   "id": "8fe87801",
   "metadata": {},
   "outputs": [],
   "source": [
    "gdp_pc = gdp[['Year', 'r_gdp', 'r_gdp_pc', 'Population']]"
   ]
  },
  {
   "cell_type": "code",
   "execution_count": 15,
   "id": "f2000661",
   "metadata": {},
   "outputs": [],
   "source": [
    "gdp_pc = gdp_pc[gdp_pc.Year >= 1947]"
   ]
  },
  {
   "cell_type": "code",
   "execution_count": 16,
   "id": "609caa43",
   "metadata": {},
   "outputs": [
    {
     "data": {
      "text/plain": [
       "Year          0\n",
       "r_gdp         0\n",
       "r_gdp_pc      0\n",
       "Population    0\n",
       "dtype: int64"
      ]
     },
     "execution_count": 16,
     "metadata": {},
     "output_type": "execute_result"
    }
   ],
   "source": [
    "gdp_pc.isna().sum()"
   ]
  },
  {
   "cell_type": "code",
   "execution_count": 17,
   "id": "4e9fcfa7",
   "metadata": {},
   "outputs": [
    {
     "data": {
      "text/plain": [
       "Year           0\n",
       "immigration    0\n",
       "emigration     0\n",
       "net_m          0\n",
       "dtype: int64"
      ]
     },
     "execution_count": 17,
     "metadata": {},
     "output_type": "execute_result"
    }
   ],
   "source": [
    "net_m.isna().sum()"
   ]
  },
  {
   "cell_type": "code",
   "execution_count": 20,
   "id": "3421daf5",
   "metadata": {},
   "outputs": [],
   "source": [
    "full_data = gdp_pc.set_index('Year').join(net_m.set_index('Year'), on='Year', how='outer')"
   ]
  },
  {
   "cell_type": "markdown",
   "id": "b9ccdb5b",
   "metadata": {},
   "source": [
    "#### A percentage of immigrants relative to the entire population will be the main variable"
   ]
  },
  {
   "cell_type": "code",
   "execution_count": 131,
   "id": "cca99269",
   "metadata": {},
   "outputs": [],
   "source": [
    "full_data['perc'] = full_data.immigration/full_data.Population"
   ]
  },
  {
   "cell_type": "code",
   "execution_count": 133,
   "id": "dc5afeb8",
   "metadata": {
    "scrolled": false
   },
   "outputs": [
    {
     "data": {
      "text/html": [
       "<div>\n",
       "<style scoped>\n",
       "    .dataframe tbody tr th:only-of-type {\n",
       "        vertical-align: middle;\n",
       "    }\n",
       "\n",
       "    .dataframe tbody tr th {\n",
       "        vertical-align: top;\n",
       "    }\n",
       "\n",
       "    .dataframe thead th {\n",
       "        text-align: right;\n",
       "    }\n",
       "</style>\n",
       "<table border=\"1\" class=\"dataframe\">\n",
       "  <thead>\n",
       "    <tr style=\"text-align: right;\">\n",
       "      <th></th>\n",
       "      <th>r_gdp</th>\n",
       "      <th>r_gdp_pc</th>\n",
       "      <th>Population</th>\n",
       "      <th>immigration</th>\n",
       "      <th>emigration</th>\n",
       "      <th>net_m</th>\n",
       "      <th>perc</th>\n",
       "    </tr>\n",
       "  </thead>\n",
       "  <tbody>\n",
       "    <tr>\n",
       "      <th>count</th>\n",
       "      <td>7.000000e+01</td>\n",
       "      <td>70.000000</td>\n",
       "      <td>70.000000</td>\n",
       "      <td>70.000000</td>\n",
       "      <td>70.000000</td>\n",
       "      <td>70.000000</td>\n",
       "      <td>70.000000</td>\n",
       "    </tr>\n",
       "    <tr>\n",
       "      <th>mean</th>\n",
       "      <td>8.279732e+05</td>\n",
       "      <td>17084.880041</td>\n",
       "      <td>47.018696</td>\n",
       "      <td>325.874286</td>\n",
       "      <td>288.702857</td>\n",
       "      <td>42.111429</td>\n",
       "      <td>6.812481</td>\n",
       "    </tr>\n",
       "    <tr>\n",
       "      <th>std</th>\n",
       "      <td>4.006305e+05</td>\n",
       "      <td>7109.593093</td>\n",
       "      <td>3.681332</td>\n",
       "      <td>144.864347</td>\n",
       "      <td>59.938396</td>\n",
       "      <td>123.766437</td>\n",
       "      <td>2.568347</td>\n",
       "    </tr>\n",
       "    <tr>\n",
       "      <th>min</th>\n",
       "      <td>2.739824e+05</td>\n",
       "      <td>6756.821441</td>\n",
       "      <td>40.549000</td>\n",
       "      <td>153.000000</td>\n",
       "      <td>164.000000</td>\n",
       "      <td>-98.000000</td>\n",
       "      <td>3.267778</td>\n",
       "    </tr>\n",
       "    <tr>\n",
       "      <th>25%</th>\n",
       "      <td>4.922598e+05</td>\n",
       "      <td>11004.760093</td>\n",
       "      <td>44.730650</td>\n",
       "      <td>212.250000</td>\n",
       "      <td>238.500000</td>\n",
       "      <td>-56.075000</td>\n",
       "      <td>4.621433</td>\n",
       "    </tr>\n",
       "    <tr>\n",
       "      <th>50%</th>\n",
       "      <td>7.216841e+05</td>\n",
       "      <td>15441.219265</td>\n",
       "      <td>46.800446</td>\n",
       "      <td>272.050000</td>\n",
       "      <td>290.350000</td>\n",
       "      <td>-2.850000</td>\n",
       "      <td>6.376482</td>\n",
       "    </tr>\n",
       "    <tr>\n",
       "      <th>75%</th>\n",
       "      <td>1.154635e+06</td>\n",
       "      <td>23573.113412</td>\n",
       "      <td>48.979800</td>\n",
       "      <td>438.100000</td>\n",
       "      <td>325.750000</td>\n",
       "      <td>153.400000</td>\n",
       "      <td>8.943491</td>\n",
       "    </tr>\n",
       "    <tr>\n",
       "      <th>max</th>\n",
       "      <td>1.600372e+06</td>\n",
       "      <td>28982.268231</td>\n",
       "      <td>55.219000</td>\n",
       "      <td>632.000000</td>\n",
       "      <td>427.200000</td>\n",
       "      <td>332.300000</td>\n",
       "      <td>11.734330</td>\n",
       "    </tr>\n",
       "  </tbody>\n",
       "</table>\n",
       "</div>"
      ],
      "text/plain": [
       "              r_gdp      r_gdp_pc  Population  immigration  emigration  \\\n",
       "count  7.000000e+01     70.000000   70.000000    70.000000   70.000000   \n",
       "mean   8.279732e+05  17084.880041   47.018696   325.874286  288.702857   \n",
       "std    4.006305e+05   7109.593093    3.681332   144.864347   59.938396   \n",
       "min    2.739824e+05   6756.821441   40.549000   153.000000  164.000000   \n",
       "25%    4.922598e+05  11004.760093   44.730650   212.250000  238.500000   \n",
       "50%    7.216841e+05  15441.219265   46.800446   272.050000  290.350000   \n",
       "75%    1.154635e+06  23573.113412   48.979800   438.100000  325.750000   \n",
       "max    1.600372e+06  28982.268231   55.219000   632.000000  427.200000   \n",
       "\n",
       "            net_m       perc  \n",
       "count   70.000000  70.000000  \n",
       "mean    42.111429   6.812481  \n",
       "std    123.766437   2.568347  \n",
       "min    -98.000000   3.267778  \n",
       "25%    -56.075000   4.621433  \n",
       "50%     -2.850000   6.376482  \n",
       "75%    153.400000   8.943491  \n",
       "max    332.300000  11.734330  "
      ]
     },
     "execution_count": 133,
     "metadata": {},
     "output_type": "execute_result"
    }
   ],
   "source": [
    "full_data.describe()"
   ]
  },
  {
   "cell_type": "code",
   "execution_count": 164,
   "id": "662d5c91",
   "metadata": {
    "scrolled": false
   },
   "outputs": [
    {
     "name": "stderr",
     "output_type": "stream",
     "text": [
      "/var/folders/mh/9l7f5q2x0bsc05929xvm2nnh0000gn/T/ipykernel_13172/3809335425.py:10: UserWarning: FixedFormatter should only be used together with FixedLocator\n",
      "  ax2.set_yticklabels([200, 400, 600, 800, 1000, 1200, 1400, 1600, 1800], c='b')\n",
      "/var/folders/mh/9l7f5q2x0bsc05929xvm2nnh0000gn/T/ipykernel_13172/3809335425.py:12: UserWarning: FixedFormatter should only be used together with FixedLocator\n",
      "  ax.set_xticklabels([1940, 1950, 1960, 1970, 1980, 1990, 2000, 2010, 2020])\n"
     ]
    },
    {
     "data": {
      "image/png": "[encoded data removed]",
      "text/plain": [
       "<Figure size 720x360 with 2 Axes>"
      ]
     },
     "metadata": {
      "needs_background": "light"
     },
     "output_type": "display_data"
    }
   ],
   "source": [
    "fig, ax = plt.subplots(figsize=(10,5))\n",
    "\n",
    "ax.plot(full_data.index, full_data.perc, c='r')\n",
    "ax.set_ylabel('Percent of immigrants', c='r')\n",
    "ax.set_yticks([2,4,6,8,10,12],c='r')\n",
    "\n",
    "ax2 = ax.twinx()\n",
    "ax2.plot(full_data.index, full_data.r_gdp, c='b')\n",
    "ax2.set_ylabel('Real GDP (mn pounds)', c='b')\n",
    "ax2.set_yticklabels([200, 400, 600, 800, 1000, 1200, 1400, 1600, 1800], c='b')\n",
    "\n",
    "ax.set_xticklabels([1940, 1950, 1960, 1970, 1980, 1990, 2000, 2010, 2020])\n",
    "ax.set_title('Immigration vs. Real GDP')\n",
    "\n",
    "plt.tight_layout()\n",
    "\n",
    "plt.savefig(fname='/Users/chinmayasukumar/Documents/Springboard/Unit 20/Time', format='jpeg', dpi=1000)"
   ]
  },
  {
   "cell_type": "markdown",
   "id": "54581c6c",
   "metadata": {},
   "source": [
    "A regression model will be built to ascertain any correlations"
   ]
  },
  {
   "cell_type": "code",
   "execution_count": 145,
   "id": "add4e823",
   "metadata": {},
   "outputs": [
    {
     "data": {
      "text/plain": [
       "LinearRegression()"
      ]
     },
     "execution_count": 145,
     "metadata": {},
     "output_type": "execute_result"
    }
   ],
   "source": [
    "lr = LinearRegression()\n",
    "lr.fit(np.array(full_data.r_gdp).reshape(-1,1), np.array(full_data.perc).reshape(-1,1))"
   ]
  },
  {
   "cell_type": "code",
   "execution_count": 146,
   "id": "f2958d24",
   "metadata": {},
   "outputs": [
    {
     "data": {
      "text/plain": [
       "(array([[4.6357595e-06]]), array([2.97419592]))"
      ]
     },
     "execution_count": 146,
     "metadata": {},
     "output_type": "execute_result"
    }
   ],
   "source": [
    "lr.coef_, lr.intercept_"
   ]
  },
  {
   "cell_type": "code",
   "execution_count": 166,
   "id": "44cc5970",
   "metadata": {},
   "outputs": [
    {
     "name": "stderr",
     "output_type": "stream",
     "text": [
      "/var/folders/mh/9l7f5q2x0bsc05929xvm2nnh0000gn/T/ipykernel_13172/813976453.py:13: UserWarning: FixedFormatter should only be used together with FixedLocator\n",
      "  ax.set_xticklabels([0, 200, 400, 600, 800, 1000, 1200, 1400, 1600])\n"
     ]
    },
    {
     "data": {
      "image/png": "[encoded data removed]",
      "text/plain": [
       "<Figure size 576x360 with 1 Axes>"
      ]
     },
     "metadata": {
      "needs_background": "light"
     },
     "output_type": "display_data"
    }
   ],
   "source": [
    "x = np.arange(0.2*10**6, 1.8*10**6, 0.1*10**6).reshape(-1,)\n",
    "\n",
    "m = np.array(lr.coef_).reshape(1,)\n",
    "b = np.array(lr.intercept_)\n",
    "y = m*x + b\n",
    "\n",
    "fig, ax = plt.subplots(figsize=(8,5))\n",
    "ax.scatter(full_data.r_gdp, full_data.perc)\n",
    "\n",
    "ax.plot(x, y, linestyle='--', c='r')\n",
    "\n",
    "ax.set_xlabel('Real GDP (mn pounds)')\n",
    "ax.set_xticklabels([0, 200, 400, 600, 800, 1000, 1200, 1400, 1600])\n",
    "ax.set_ylabel('Percentage Immigrants')\n",
    "ax.set_title('Percentage of Immigrants vs. Real GDP over 70 years in Britain')\n",
    "\n",
    "plt.savefig('/Users/chinmayasukumar/Documents/Springboard/Unit 20/PercImmVsRealGDP', format='jpeg', dpi=1000)"
   ]
  },
  {
   "cell_type": "code",
   "execution_count": 158,
   "id": "14145c9b",
   "metadata": {},
   "outputs": [
    {
     "data": {
      "text/plain": [
       "0.7231212849649518"
      ]
     },
     "execution_count": 158,
     "metadata": {},
     "output_type": "execute_result"
    }
   ],
   "source": [
    "corrcoef(full_data.perc, full_data.r_gdp)[1,0]"
   ]
  },
  {
   "cell_type": "markdown",
   "id": "b9670407",
   "metadata": {},
   "source": [
    "### It is demonstrated that immigrants may not be extraordinarily deletrious to the British economy. Post-war Britain saw a surge in immigration which lessened in the following decades followed by another surge around the turn of the millenium. Throughout the decades, immigration rates have fluctuated, however real GDP has always risen seemingly without concern. The hypothetical negative externalities immigration has on Britain's economy is not visible at a macro scale. "
   ]
  }
 ],
 "metadata": {
  "kernelspec": {
   "display_name": "Python 3 (ipykernel)",
   "language": "python",
   "name": "python3"
  },
  "language_info": {
   "codemirror_mode": {
    "name": "ipython",
    "version": 3
   },
   "file_extension": ".py",
   "mimetype": "text/x-python",
   "name": "python",
   "nbconvert_exporter": "python",
   "pygments_lexer": "ipython3",
   "version": "3.9.12"
  }
 },
 "nbformat": 4,
 "nbformat_minor": 5
}
