{
 "cells": [
  {
   "cell_type": "markdown",
   "metadata": {
    "colab_type": "text",
    "id": "Tia3MP1SJpgj"
   },
   "source": [
    "# Springboard Data Science Career Track Unit 4 Challenge - Tier 3 Complete\n",
    "\n",
    "## Objectives\n",
    "Hey! Great job getting through those challenging DataCamp courses. You're learning a lot in a short span of time. \n",
    "\n",
    "In this notebook, you're going to apply the skills you've been learning, bridging the gap between the controlled environment of DataCamp and the *slightly* messier work that data scientists do with actual datasets!\n",
    "\n",
    "Here’s the mystery we’re going to solve: ***which boroughs of London have seen the greatest increase in housing prices, on average, over the last two decades?***\n",
    "\n",
    "\n",
    "A borough is just a fancy word for district. You may be familiar with the five boroughs of New York… well, there are 32 boroughs within Greater London [(here's some info for the curious)](https://en.wikipedia.org/wiki/London_boroughs). Some of them are more desirable areas to live in, and the data will reflect that with a greater rise in housing prices.\n",
    "\n",
    "***This is the Tier 3 notebook, which means it's not filled in at all: we'll just give you the skeleton of a project, the brief and the data. It's up to you to play around with it and see what you can find out! Good luck! If you struggle, feel free to look at easier tiers for help; but try to dip in and out of them, as the more independent work you do, the better it is for your learning!***\n",
    "\n",
    "This challenge will make use of only what you learned in the following DataCamp courses: \n",
    "- Prework courses (Introduction to Python for Data Science, Intermediate Python for Data Science)\n",
    "- Data Types for Data Science\n",
    "- Python Data Science Toolbox (Part One) \n",
    "- pandas Foundations\n",
    "- Manipulating DataFrames with pandas\n",
    "- Merging DataFrames with pandas\n",
    "\n",
    "Of the tools, techniques and concepts in the above DataCamp courses, this challenge should require the application of the following: \n",
    "- **pandas**\n",
    "    - **data ingestion and inspection** (pandas Foundations, Module One) \n",
    "    - **exploratory data analysis** (pandas Foundations, Module Two)\n",
    "    - **tidying and cleaning** (Manipulating DataFrames with pandas, Module Three) \n",
    "    - **transforming DataFrames** (Manipulating DataFrames with pandas, Module One)\n",
    "    - **subsetting DataFrames with lists** (Manipulating DataFrames with pandas, Module One) \n",
    "    - **filtering DataFrames** (Manipulating DataFrames with pandas, Module One) \n",
    "    - **grouping data** (Manipulating DataFrames with pandas, Module Four) \n",
    "    - **melting data** (Manipulating DataFrames with pandas, Module Three) \n",
    "    - **advanced indexing** (Manipulating DataFrames with pandas, Module Four) \n",
    "- **matplotlib** (Intermediate Python for Data Science, Module One)\n",
    "- **fundamental data types** (Data Types for Data Science, Module One) \n",
    "- **dictionaries** (Intermediate Python for Data Science, Module Two)\n",
    "- **handling dates and times** (Data Types for Data Science, Module Four)\n",
    "- **function definition** (Python Data Science Toolbox - Part One, Module One)\n",
    "- **default arguments, variable length, and scope** (Python Data Science Toolbox - Part One, Module Two) \n",
    "- **lambda functions and error handling** (Python Data Science Toolbox - Part One, Module Four) "
   ]
  },
  {
   "cell_type": "markdown",
   "metadata": {
    "colab_type": "text",
    "id": "Ipgd2nV8Jpgl"
   },
   "source": [
    "## The Data Science Pipeline\n",
    "\n",
    "This is Tier Three, so we'll get you started. But after that, it's all in your hands! When you feel done with your investigations, look back over what you've accomplished, and prepare a quick presentation of your findings for the next mentor meeting. \n",
    "\n",
    "Data Science is magical. In this case study, you'll get to apply some complex machine learning algorithms. But as  [David Spiegelhalter](https://www.youtube.com/watch?v=oUs1uvsz0Ok) reminds us, there is no substitute for simply **taking a really, really good look at the data.** Sometimes, this is all we need to answer our question.\n",
    "\n",
    "Data Science projects generally adhere to the four stages of Data Science Pipeline:\n",
    "1. Sourcing and loading \n",
    "2. Cleaning, transforming, and visualizing \n",
    "3. Modeling \n",
    "4. Evaluating and concluding \n"
   ]
  },
  {
   "cell_type": "markdown",
   "metadata": {
    "colab_type": "text",
    "id": "zswDqbefJpgm"
   },
   "source": [
    "### 1. Sourcing and Loading \n",
    "\n",
    "Any Data Science project kicks off by importing  ***pandas***. The documentation of this wonderful library can be found [here](https://pandas.pydata.org/). As you've seen, pandas is conveniently connected to the [Numpy](http://www.numpy.org/) and [Matplotlib](https://matplotlib.org/) libraries. \n",
    "\n",
    "***Hint:*** This part of the data science pipeline will test those skills you acquired in the pandas Foundations course, Module One. "
   ]
  },
  {
   "cell_type": "markdown",
   "metadata": {
    "colab_type": "text",
    "id": "aEau5nEvJpgm"
   },
   "source": [
    "#### 1.1. Importing Libraries"
   ]
  },
  {
   "cell_type": "code",
   "execution_count": 1,
   "metadata": {
    "colab": {},
    "colab_type": "code",
    "id": "7Bt_Q_oPJpgn"
   },
   "outputs": [],
   "source": [
    "# Let's import the pandas, numpy libraries as pd, and np respectively. \n",
    "import pandas as pd\n",
    "import numpy as np\n",
    "\n",
    "# Load the pyplot collection of functions from matplotlib, as plt \n",
    "import matplotlib.pyplot as plt"
   ]
  },
  {
   "cell_type": "markdown",
   "metadata": {
    "colab_type": "text",
    "id": "koUrawxsJpgq"
   },
   "source": [
    "#### 1.2.  Loading the data\n",
    "Your data comes from the [London Datastore](https://data.london.gov.uk/): a free, open-source data-sharing portal for London-oriented datasets. "
   ]
  },
  {
   "cell_type": "code",
   "execution_count": 2,
   "metadata": {
    "colab": {},
    "colab_type": "code",
    "id": "AiLiD4v3Jpgr"
   },
   "outputs": [],
   "source": [
    "# First, make a variable called url_LondonHousePrices, and assign it the following link, enclosed in quotation-marks as a string:\n",
    "# https://data.london.gov.uk/download/uk-house-price-index/70ac0766-8902-4eb5-aab5-01951aaed773/UK%20House%20price%20index.xls\n",
    "\n",
    "url_LondonHousePrices = \"https://data.london.gov.uk/download/uk-house-price-index/70ac0766-8902-4eb5-aab5-01951aaed773/UK%20House%20price%20index.xls\"\n",
    "\n",
    "# The dataset we're interested in contains the Average prices of the houses, and is actually on a particular sheet of the Excel file. \n",
    "# As a result, we need to specify the sheet name in the read_excel() method.\n",
    "# Put this data into a variable called properties.  \n",
    "properties = pd.read_excel(url_LondonHousePrices, sheet_name='Average price', index_col= None)"
   ]
  },
  {
   "cell_type": "markdown",
   "metadata": {
    "colab_type": "text",
    "id": "POukEJXgJpgu"
   },
   "source": [
    "### 2. Cleaning, transforming, and visualizing\n",
    "This second stage is arguably the most important part of any Data Science project. The first thing to do is take a proper look at the data. Cleaning forms the majority of this stage, and can be done both before or after Transformation.\n",
    "\n",
    "The end goal of data cleaning is to have tidy data. When data is tidy: \n",
    "\n",
    "1. Each variable has a column.\n",
    "2. Each observation forms a row.\n",
    "\n",
    "Keep the end goal in mind as you move through this process, every step will take you closer. \n",
    "\n",
    "\n",
    "\n",
    "***Hint:*** This part of the data science pipeline should test those skills you acquired in: \n",
    "- Intermediate Python for data science, all modules.\n",
    "- pandas Foundations, all modules. \n",
    "- Manipulating DataFrames with pandas, all modules.\n",
    "- Data Types for Data Science, Module Four.\n",
    "- Python Data Science Toolbox - Part One, all modules"
   ]
  },
  {
   "cell_type": "markdown",
   "metadata": {
    "colab_type": "text",
    "id": "Te0Q548tnzZa"
   },
   "source": [
    "**2.1. Exploring your data** \n",
    "\n",
    "Think about your pandas functions for checking out a dataframe. "
   ]
  },
  {
   "cell_type": "code",
   "execution_count": 3,
   "metadata": {
    "colab": {},
    "colab_type": "code",
    "id": "Rxirxw_qoAJa"
   },
   "outputs": [
    {
     "name": "stdout",
     "output_type": "stream",
     "text": [
      "  Unnamed: 0 City of London Barking & Dagenham       Barnet       Bexley  \\\n",
      "0        NaT      E09000001          E09000002    E09000003    E09000004   \n",
      "1 1995-01-01    91448.98487         50460.2266  93284.51832  64958.09036   \n",
      "2 1995-02-01    82202.77314        51085.77983  93190.16963  64787.92069   \n",
      "3 1995-03-01    79120.70256        51268.96956  92247.52435  64367.49344   \n",
      "4 1995-04-01    77101.20804        53133.50526  90762.87492  64277.66881   \n",
      "\n",
      "         Brent      Bromley       Camden      Croydon       Ealing  ...  \\\n",
      "0    E09000005    E09000006    E09000007    E09000008    E09000009  ...   \n",
      "1  71306.56698  81671.47692  120932.8881  69158.16225  79885.89069  ...   \n",
      "2  72022.26197  81657.55944  119508.8622  68951.09542  80897.06551  ...   \n",
      "3  72015.76274  81449.31143  120282.2131  68712.44341  81379.86288  ...   \n",
      "4  72965.63094  81124.41227   120097.899  68610.04641  82188.90498  ...   \n",
      "\n",
      "    NORTH WEST YORKS & THE HUMBER EAST MIDLANDS WEST MIDLANDS EAST OF ENGLAND  \\\n",
      "0    E12000002          E12000003     E12000004     E12000005       E12000006   \n",
      "1  43958.48001        44803.42878   45544.52227   48527.52339      56701.5961   \n",
      "2  43925.42289        44528.80721   46051.57066   49341.29029     56593.59475   \n",
      "3   44434.8681        45200.46775   45383.82395   49442.17973     56171.18278   \n",
      "4   44267.7796        45614.34341   46124.23045   49455.93299     56567.89582   \n",
      "\n",
      "        LONDON   SOUTH EAST   SOUTH WEST Unnamed: 47      England  \n",
      "0    E12000007    E12000008    E12000009         NaN    E92000001  \n",
      "1  74435.76052  64018.87894   54705.1579         NaN  53202.77128  \n",
      "2  72777.93709  63715.02399  54356.14843         NaN   53096.1549  \n",
      "3  73896.84204  64113.60858  53583.07667         NaN   53201.2843  \n",
      "4  74455.28754  64623.22395  54786.01938         NaN   53590.8548  \n",
      "\n",
      "[5 rows x 49 columns]\n",
      "Index(['Unnamed: 0', 'City of London', 'Barking & Dagenham', 'Barnet',\n",
      "       'Bexley', 'Brent', 'Bromley', 'Camden', 'Croydon', 'Ealing', 'Enfield',\n",
      "       'Greenwich', 'Hackney', 'Hammersmith & Fulham', 'Haringey', 'Harrow',\n",
      "       'Havering', 'Hillingdon', 'Hounslow', 'Islington',\n",
      "       'Kensington & Chelsea', 'Kingston upon Thames', 'Lambeth', 'Lewisham',\n",
      "       'Merton', 'Newham', 'Redbridge', 'Richmond upon Thames', 'Southwark',\n",
      "       'Sutton', 'Tower Hamlets', 'Waltham Forest', 'Wandsworth',\n",
      "       'Westminster', 'Unnamed: 34', 'Inner London', 'Outer London',\n",
      "       'Unnamed: 37', 'NORTH EAST', 'NORTH WEST', 'YORKS & THE HUMBER',\n",
      "       'EAST MIDLANDS', 'WEST MIDLANDS', 'EAST OF ENGLAND', 'LONDON',\n",
      "       'SOUTH EAST', 'SOUTH WEST', 'Unnamed: 47', 'England'],\n",
      "      dtype='object')\n",
      "<bound method NDFrame.describe of     Unnamed: 0 City of London Barking & Dagenham       Barnet       Bexley  \\\n",
      "0          NaT      E09000001          E09000002    E09000003    E09000004   \n",
      "1   1995-01-01    91448.98487         50460.2266  93284.51832  64958.09036   \n",
      "2   1995-02-01    82202.77314        51085.77983  93190.16963  64787.92069   \n",
      "3   1995-03-01    79120.70256        51268.96956  92247.52435  64367.49344   \n",
      "4   1995-04-01    77101.20804        53133.50526  90762.87492  64277.66881   \n",
      "..         ...            ...                ...          ...          ...   \n",
      "322 2021-10-01     791378.109        326042.6914  568718.5729  376352.1023   \n",
      "323 2021-11-01    803052.1221        326542.6901  574061.9154   380545.516   \n",
      "324 2021-12-01    871122.9143        329137.1619  580827.1471   386089.801   \n",
      "325 2022-01-01      827042.99        337963.6275  585640.5712  387529.3922   \n",
      "326 2022-02-01    839697.5384        341190.2524  588081.3388  390501.9239   \n",
      "\n",
      "           Brent      Bromley       Camden      Croydon       Ealing  ...  \\\n",
      "0      E09000005    E09000006    E09000007    E09000008    E09000009  ...   \n",
      "1    71306.56698  81671.47692  120932.8881  69158.16225  79885.89069  ...   \n",
      "2    72022.26197  81657.55944  119508.8622  68951.09542  80897.06551  ...   \n",
      "3    72015.76274  81449.31143  120282.2131  68712.44341  81379.86288  ...   \n",
      "4    72965.63094  81124.41227   120097.899  68610.04641  82188.90498  ...   \n",
      "..           ...          ...          ...          ...          ...  ...   \n",
      "322  503546.0062   477015.675  847912.6731   404753.052  518862.2149  ...   \n",
      "323  507410.5357  483753.4309  875827.4166  406918.2122  520688.1318  ...   \n",
      "324  515272.4067  484750.6296  898598.5066  405005.3887  519785.3254  ...   \n",
      "325  528377.3013  484148.0699  866923.1278  403961.9567  525915.9345  ...   \n",
      "326   525541.151  489633.1291   870731.643  405910.1988  531574.5168  ...   \n",
      "\n",
      "      NORTH WEST YORKS & THE HUMBER EAST MIDLANDS WEST MIDLANDS  \\\n",
      "0      E12000002          E12000003     E12000004     E12000005   \n",
      "1    43958.48001        44803.42878   45544.52227   48527.52339   \n",
      "2    43925.42289        44528.80721   46051.57066   49341.29029   \n",
      "3     44434.8681        45200.46775   45383.82395   49442.17973   \n",
      "4     44267.7796        45614.34341   46124.23045   49455.93299   \n",
      "..           ...                ...           ...           ...   \n",
      "322  191286.0845        186885.1975    224935.321   225623.6326   \n",
      "323  197391.0651        192628.4976   229974.4598   230722.0472   \n",
      "324  200084.0333        194911.8811   231053.0981   235689.0727   \n",
      "325   200271.499        196241.7554   236956.1817   236930.8341   \n",
      "326  203538.2317        198598.6447    235992.636    237757.062   \n",
      "\n",
      "    EAST OF ENGLAND       LONDON   SOUTH EAST   SOUTH WEST Unnamed: 47  \\\n",
      "0         E12000006    E12000007    E12000008    E12000009         NaN   \n",
      "1        56701.5961  74435.76052  64018.87894   54705.1579         NaN   \n",
      "2       56593.59475  72777.93709  63715.02399  54356.14843         NaN   \n",
      "3       56171.18278  73896.84204  64113.60858  53583.07667         NaN   \n",
      "4       56567.89582  74455.28754  64623.22395  54786.01938         NaN   \n",
      "..              ...          ...          ...          ...         ...   \n",
      "322     328326.6401  512194.5506  365218.8048  296500.7774         NaN   \n",
      "323     335973.9197  515742.3256  371233.8874  305769.4254         NaN   \n",
      "324     336488.2856  518920.8084  375324.9506  309105.2603         NaN   \n",
      "325     341072.8064  518295.7685  381546.5505  309050.8486         NaN   \n",
      "326     345652.2823  529881.5092  380528.1202   312697.036         NaN   \n",
      "\n",
      "         England  \n",
      "0      E92000001  \n",
      "1    53202.77128  \n",
      "2     53096.1549  \n",
      "3     53201.2843  \n",
      "4     53590.8548  \n",
      "..           ...  \n",
      "322  281350.8355  \n",
      "323  287929.3677  \n",
      "324  290791.4529  \n",
      "325  293277.3209  \n",
      "326  295887.5613  \n",
      "\n",
      "[327 rows x 49 columns]>\n",
      "Unnamed: 0                1\n",
      "City of London            0\n",
      "Barking & Dagenham        0\n",
      "Barnet                    0\n",
      "Bexley                    0\n",
      "Brent                     0\n",
      "Bromley                   0\n",
      "Camden                    0\n",
      "Croydon                   0\n",
      "Ealing                    0\n",
      "Enfield                   0\n",
      "Greenwich                 0\n",
      "Hackney                   0\n",
      "Hammersmith & Fulham      0\n",
      "Haringey                  0\n",
      "Harrow                    0\n",
      "Havering                  0\n",
      "Hillingdon                0\n",
      "Hounslow                  0\n",
      "Islington                 0\n",
      "Kensington & Chelsea      0\n",
      "Kingston upon Thames      0\n",
      "Lambeth                   0\n",
      "Lewisham                  0\n",
      "Merton                    0\n",
      "Newham                    0\n",
      "Redbridge                 0\n",
      "Richmond upon Thames      0\n",
      "Southwark                 0\n",
      "Sutton                    0\n",
      "Tower Hamlets             0\n",
      "Waltham Forest            0\n",
      "Wandsworth                0\n",
      "Westminster               0\n",
      "Unnamed: 34             327\n",
      "Inner London              0\n",
      "Outer London              0\n",
      "Unnamed: 37             327\n",
      "NORTH EAST                0\n",
      "NORTH WEST                0\n",
      "YORKS & THE HUMBER        0\n",
      "EAST MIDLANDS             0\n",
      "WEST MIDLANDS             0\n",
      "EAST OF ENGLAND           0\n",
      "LONDON                    0\n",
      "SOUTH EAST                0\n",
      "SOUTH WEST                0\n",
      "Unnamed: 47             327\n",
      "England                   0\n",
      "dtype: int64\n"
     ]
    }
   ],
   "source": [
    "print(properties.head(5))\n",
    "print(properties.columns)\n",
    "print(properties.describe)\n",
    "print(properties.isnull().sum())\n"
   ]
  },
  {
   "cell_type": "markdown",
   "metadata": {
    "colab_type": "text",
    "id": "tE9Sqt9-oAta"
   },
   "source": [
    "**2.2. Cleaning the data**\n",
    "\n",
    "You might find you need to transpose your dataframe, check out what its row indexes are, and reset the index. You  also might find you need to assign the values of the first row to your column headings  . (Hint: recall the .columns feature of DataFrames, as well as the iloc[] method).\n",
    "\n",
    "Don't be afraid to use StackOverflow for help  with this."
   ]
  },
  {
   "cell_type": "code",
   "execution_count": 4,
   "metadata": {
    "colab": {},
    "colab_type": "code",
    "id": "cdAu1A3YoH_r"
   },
   "outputs": [
    {
     "name": "stdout",
     "output_type": "stream",
     "text": [
      "0          Unnamed: 0        NaT 1995-01-01 00:00:00 1995-02-01 00:00:00  \\\n",
      "1      City of London  E09000001         91448.98487         82202.77314   \n",
      "2  Barking & Dagenham  E09000002          50460.2266         51085.77983   \n",
      "3              Barnet  E09000003         93284.51832         93190.16963   \n",
      "4              Bexley  E09000004         64958.09036         64787.92069   \n",
      "5               Brent  E09000005         71306.56698         72022.26197   \n",
      "\n",
      "0 1995-03-01 00:00:00 1995-04-01 00:00:00 1995-05-01 00:00:00  \\\n",
      "1         79120.70256         77101.20804         84409.14932   \n",
      "2         51268.96956         53133.50526         53042.24852   \n",
      "3         92247.52435         90762.87492         90258.00033   \n",
      "4         64367.49344         64277.66881         63997.13588   \n",
      "5         72015.76274         72965.63094         73704.04743   \n",
      "\n",
      "0 1995-06-01 00:00:00 1995-07-01 00:00:00 1995-08-01 00:00:00  ...  \\\n",
      "1         94900.51244         110128.0423         112329.4376  ...   \n",
      "2         53700.34831         52113.12157         52232.19868  ...   \n",
      "3         90107.23471         91441.24768         92361.31512  ...   \n",
      "4         64252.32335         63722.70055         64432.60005  ...   \n",
      "5         74310.48167         74127.03788          73547.0411  ...   \n",
      "\n",
      "0 2021-05-01 00:00:00 2021-06-01 00:00:00 2021-07-01 00:00:00  \\\n",
      "1         741141.1788         752491.1732         893319.6991   \n",
      "2         309862.6828         314681.4474         310493.3899   \n",
      "3          537111.947         546048.2774         542593.9798   \n",
      "4          359008.204         362539.5822         366824.1376   \n",
      "5          507954.548         514888.1423         527040.8926   \n",
      "\n",
      "0 2021-08-01 00:00:00 2021-09-01 00:00:00 2021-10-01 00:00:00  \\\n",
      "1         913634.0197         920049.9441          791378.109   \n",
      "2          314969.114          316231.686         326042.6914   \n",
      "3         556095.8349         554763.3307         568718.5729   \n",
      "4         371825.4246         371834.7186         376352.1023   \n",
      "5         520635.7109         518247.0187         503546.0062   \n",
      "\n",
      "0 2021-11-01 00:00:00 2021-12-01 00:00:00 2022-01-01 00:00:00  \\\n",
      "1         803052.1221         871122.9143           827042.99   \n",
      "2         326542.6901         329137.1619         337963.6275   \n",
      "3         574061.9154         580827.1471         585640.5712   \n",
      "4          380545.516          386089.801         387529.3922   \n",
      "5         507410.5357         515272.4067         528377.3013   \n",
      "\n",
      "0 2022-02-01 00:00:00  \n",
      "1         839697.5384  \n",
      "2         341190.2524  \n",
      "3         588081.3388  \n",
      "4         390501.9239  \n",
      "5          525541.151  \n",
      "\n",
      "[5 rows x 328 columns]\n"
     ]
    }
   ],
   "source": [
    "properties_T = properties.T\n",
    "properties_T = properties_T.reset_index()\n",
    "properties_T.columns = properties_T.iloc[0]\n",
    "properties_T = properties_T.iloc[1:,:]\n",
    "print(properties_T.head())\n"
   ]
  },
  {
   "cell_type": "markdown",
   "metadata": {
    "colab_type": "text",
    "id": "o1uLbJAsoIjK"
   },
   "source": [
    "**2.3. Cleaning the data (part 2)**\n",
    "\n",
    "You might we have to **rename** a couple columns. How do you do this? The clue's pretty bold..."
   ]
  },
  {
   "cell_type": "code",
   "execution_count": 5,
   "metadata": {
    "colab": {},
    "colab_type": "code",
    "id": "GKkmn1AnoVZS"
   },
   "outputs": [
    {
     "name": "stdout",
     "output_type": "stream",
     "text": [
      "0              Borough Borough Code 1995-01-01 00:00:00 1995-02-01 00:00:00  \\\n",
      "1       City of London    E09000001         91448.98487         82202.77314   \n",
      "2   Barking & Dagenham    E09000002          50460.2266         51085.77983   \n",
      "3               Barnet    E09000003         93284.51832         93190.16963   \n",
      "4               Bexley    E09000004         64958.09036         64787.92069   \n",
      "5                Brent    E09000005         71306.56698         72022.26197   \n",
      "6              Bromley    E09000006         81671.47692         81657.55944   \n",
      "7               Camden    E09000007         120932.8881         119508.8622   \n",
      "8              Croydon    E09000008         69158.16225         68951.09542   \n",
      "9               Ealing    E09000009         79885.89069         80897.06551   \n",
      "10             Enfield    E09000010         72514.69096         73155.19746   \n",
      "\n",
      "0  1995-03-01 00:00:00 1995-04-01 00:00:00 1995-05-01 00:00:00  \\\n",
      "1          79120.70256         77101.20804         84409.14932   \n",
      "2          51268.96956         53133.50526         53042.24852   \n",
      "3          92247.52435         90762.87492         90258.00033   \n",
      "4          64367.49344         64277.66881         63997.13588   \n",
      "5          72015.76274         72965.63094         73704.04743   \n",
      "6          81449.31143         81124.41227         81542.61561   \n",
      "7          120282.2131          120097.899         119929.2782   \n",
      "8          68712.44341         68610.04641          68844.9169   \n",
      "9          81379.86288         82188.90498         82077.05525   \n",
      "10         72190.44144         71442.92235         70630.77955   \n",
      "\n",
      "0  1995-06-01 00:00:00 1995-07-01 00:00:00 1995-08-01 00:00:00  ...  \\\n",
      "1          94900.51244         110128.0423         112329.4376  ...   \n",
      "2          53700.34831         52113.12157         52232.19868  ...   \n",
      "3          90107.23471         91441.24768         92361.31512  ...   \n",
      "4          64252.32335         63722.70055         64432.60005  ...   \n",
      "5          74310.48167         74127.03788          73547.0411  ...   \n",
      "6          82382.83435         82898.52264         82054.37156  ...   \n",
      "7          121887.4625         124027.5768         125529.8039  ...   \n",
      "8          69052.51103         69142.48112         68993.42545  ...   \n",
      "9          81630.66181          82352.2226         82706.65927  ...   \n",
      "10         71348.31147         71837.54011         72237.94562  ...   \n",
      "\n",
      "0  2021-05-01 00:00:00 2021-06-01 00:00:00 2021-07-01 00:00:00  \\\n",
      "1          741141.1788         752491.1732         893319.6991   \n",
      "2          309862.6828         314681.4474         310493.3899   \n",
      "3           537111.947         546048.2774         542593.9798   \n",
      "4           359008.204         362539.5822         366824.1376   \n",
      "5           507954.548         514888.1423         527040.8926   \n",
      "6          460864.6248         467474.0232         470055.4872   \n",
      "7           813933.726         806607.6867         866370.7384   \n",
      "8          393627.9317         394714.5255         392518.2469   \n",
      "9           498171.182         499436.4417         504660.2096   \n",
      "10         417027.4185         419910.9004         420423.4238   \n",
      "\n",
      "0  2021-08-01 00:00:00 2021-09-01 00:00:00 2021-10-01 00:00:00  \\\n",
      "1          913634.0197         920049.9441          791378.109   \n",
      "2           314969.114          316231.686         326042.6914   \n",
      "3          556095.8349         554763.3307         568718.5729   \n",
      "4          371825.4246         371834.7186         376352.1023   \n",
      "5          520635.7109         518247.0187         503546.0062   \n",
      "6          473610.0652         473194.1732          477015.675   \n",
      "7          876251.7886         880864.4148         847912.6731   \n",
      "8          395909.0761         396905.6391          404753.052   \n",
      "9          510188.0185         510036.4994         518862.2149   \n",
      "10          427657.375         428373.1185         433045.1519   \n",
      "\n",
      "0  2021-11-01 00:00:00 2021-12-01 00:00:00 2022-01-01 00:00:00  \\\n",
      "1          803052.1221         871122.9143           827042.99   \n",
      "2          326542.6901         329137.1619         337963.6275   \n",
      "3          574061.9154         580827.1471         585640.5712   \n",
      "4           380545.516          386089.801         387529.3922   \n",
      "5          507410.5357         515272.4067         528377.3013   \n",
      "6          483753.4309         484750.6296         484148.0699   \n",
      "7          875827.4166         898598.5066         866923.1278   \n",
      "8          406918.2122         405005.3887         403961.9567   \n",
      "9          520688.1318         519785.3254         525915.9345   \n",
      "10         436022.6196         438121.8594         436698.8703   \n",
      "\n",
      "0  2022-02-01 00:00:00  \n",
      "1          839697.5384  \n",
      "2          341190.2524  \n",
      "3          588081.3388  \n",
      "4          390501.9239  \n",
      "5           525541.151  \n",
      "6          489633.1291  \n",
      "7           870731.643  \n",
      "8          405910.1988  \n",
      "9          531574.5168  \n",
      "10         436831.8586  \n",
      "\n",
      "[10 rows x 328 columns]\n"
     ]
    }
   ],
   "source": [
    "properties_re = properties_T.rename(columns={'Unnamed: 0':'Borough', pd.NaT:'Borough Code'})\n",
    "print(properties_re.head(10))"
   ]
  },
  {
   "cell_type": "markdown",
   "metadata": {
    "colab_type": "text",
    "id": "jy8BzXHmoWEw"
   },
   "source": [
    "**2.4.Transforming the data**\n",
    "\n",
    "Remember what Wes McKinney said about tidy data? \n",
    "\n",
    "You might need to **melt** your DataFrame here. "
   ]
  },
  {
   "cell_type": "code",
   "execution_count": 6,
   "metadata": {
    "colab": {},
    "colab_type": "code",
    "id": "S2wM0qLuo2Zt"
   },
   "outputs": [
    {
     "name": "stdout",
     "output_type": "stream",
     "text": [
      "                  Borough Borough Code       Date        Price\n",
      "0          City of London    E09000001 1995-01-01  91448.98487\n",
      "1      Barking & Dagenham    E09000002 1995-01-01   50460.2266\n",
      "2                  Barnet    E09000003 1995-01-01  93284.51832\n",
      "3                  Bexley    E09000004 1995-01-01  64958.09036\n",
      "4                   Brent    E09000005 1995-01-01  71306.56698\n",
      "...                   ...          ...        ...          ...\n",
      "15643              LONDON    E12000007 2022-02-01  529881.5092\n",
      "15644          SOUTH EAST    E12000008 2022-02-01  380528.1202\n",
      "15645          SOUTH WEST    E12000009 2022-02-01   312697.036\n",
      "15646         Unnamed: 47          NaN 2022-02-01          NaN\n",
      "15647             England    E92000001 2022-02-01  295887.5613\n",
      "\n",
      "[15648 rows x 4 columns]\n"
     ]
    }
   ],
   "source": [
    "properties_melt = properties_re.melt(id_vars=['Borough', 'Borough Code']).rename(columns={0:'Date', 'value':'Price'})\n",
    "print(properties_melt)"
   ]
  },
  {
   "cell_type": "markdown",
   "metadata": {
    "colab_type": "text",
    "id": "7kIsgAo7o3mf"
   },
   "source": [
    "Remember to make sure your column data types are all correct. Average prices, for example, should be floating point numbers... "
   ]
  },
  {
   "cell_type": "code",
   "execution_count": 7,
   "metadata": {
    "colab": {},
    "colab_type": "code",
    "id": "ZcR4IHbcpOaq"
   },
   "outputs": [
    {
     "name": "stdout",
     "output_type": "stream",
     "text": [
      "Date     datetime64[ns]\n",
      "Price            object\n",
      "dtype: object\n",
      "float64\n"
     ]
    }
   ],
   "source": [
    "print(properties_melt[['Date', 'Price']].dtypes)\n",
    "properties_melt['Price'] = properties_melt['Price'].astype('float64')\n",
    "print(properties_melt['Price'].dtypes)"
   ]
  },
  {
   "cell_type": "markdown",
   "metadata": {
    "colab_type": "text",
    "id": "knLUXHLypOtw"
   },
   "source": [
    "**2.5. Cleaning the data (part 3)**\n",
    "\n",
    "Do we have an equal number of observations in the ID, Average Price, Month, and London Borough columns? Remember that there are only 32 London Boroughs. How many entries do you have in that column? \n",
    "\n",
    "Check out the contents of the London Borough column, and if you find null values, get rid of them however you see fit. "
   ]
  },
  {
   "cell_type": "code",
   "execution_count": 8,
   "metadata": {
    "colab": {},
    "colab_type": "code",
    "id": "BnvTW5a3p0fC"
   },
   "outputs": [
    {
     "name": "stdout",
     "output_type": "stream",
     "text": [
      "['City of London' 'Barking & Dagenham' 'Barnet' 'Bexley' 'Brent' 'Bromley'\n",
      " 'Camden' 'Croydon' 'Ealing' 'Enfield' 'Greenwich' 'Hackney'\n",
      " 'Hammersmith & Fulham' 'Haringey' 'Harrow' 'Havering' 'Hillingdon'\n",
      " 'Hounslow' 'Islington' 'Kensington & Chelsea' 'Kingston upon Thames'\n",
      " 'Lambeth' 'Lewisham' 'Merton' 'Newham' 'Redbridge' 'Richmond upon Thames'\n",
      " 'Southwark' 'Sutton' 'Tower Hamlets' 'Waltham Forest' 'Wandsworth'\n",
      " 'Westminster' 'Unnamed: 34' 'Inner London' 'Outer London' 'Unnamed: 37'\n",
      " 'NORTH EAST' 'NORTH WEST' 'YORKS & THE HUMBER' 'EAST MIDLANDS'\n",
      " 'WEST MIDLANDS' 'EAST OF ENGLAND' 'LONDON' 'SOUTH EAST' 'SOUTH WEST'\n",
      " 'Unnamed: 47' 'England']\n",
      "978\n",
      "Borough         0\n",
      "Borough Code    0\n",
      "Date            0\n",
      "Price           0\n",
      "dtype: int64\n",
      "32\n"
     ]
    }
   ],
   "source": [
    "print(properties_melt['Borough'].unique())\n",
    "print(properties_melt['Borough Code'].isna().sum())\n",
    "\n",
    "properties_clean = properties_melt.dropna()\n",
    "print(properties_clean.isna().sum())\n",
    "\n",
    "not_borough = ['City of London','Inner London', 'Outer London', 'Unnamed: 34', 'Unnamed: 37', 'Unnamed: 47','NORTH EAST', 'NORTH WEST', 'YORKS & THE HUMBER', 'EAST MIDLANDS', 'WEST MIDLANDS', 'EAST OF ENGLAND', 'LONDON', 'SOUTH EAST', 'SOUTH WEST', 'England']\n",
    "\n",
    "properties_final = properties_clean[~properties_clean['Borough'].isin(not_borough)]\n",
    "print(len(properties_final['Borough'].unique()))"
   ]
  },
  {
   "cell_type": "markdown",
   "metadata": {
    "colab_type": "text",
    "id": "PGEx6mJsp6dG"
   },
   "source": [
    "**2.6. Visualizing the data**\n",
    "\n",
    "To visualize the data, why not subset on a particular London Borough? Maybe do a line plot of Month against Average Price?"
   ]
  },
  {
   "cell_type": "code",
   "execution_count": 9,
   "metadata": {
    "colab": {},
    "colab_type": "code",
    "id": "nAg5pT9cqHAR"
   },
   "outputs": [
    {
     "data": {
      "image/png": "[encoded data removed]",
      "text/plain": [
       "<Figure size 432x288 with 1 Axes>"
      ]
     },
     "metadata": {
      "needs_background": "light"
     },
     "output_type": "display_data"
    }
   ],
   "source": [
    "Westminster = properties_final[properties_final['Borough'] == 'Westminster']\n",
    "\n",
    "plt.plot(Westminster['Date'], Westminster['Price'])\n",
    "plt.xlabel('Date')\n",
    "plt.ylabel('Price')\n",
    "plt.title('London Borough home prices from 1995 - 2020')\n",
    "plt.show()"
   ]
  },
  {
   "cell_type": "markdown",
   "metadata": {
    "colab_type": "text",
    "id": "aWTPqSJeqHnC"
   },
   "source": [
    "To limit the number of data points you have, you might want to extract the year from every month value your *Month* column. \n",
    "\n",
    "To this end, you *could* apply a ***lambda function***. Your logic could work as follows:\n",
    "1. look through the `Month` column\n",
    "2. extract the year from each individual value in that column \n",
    "3. store that corresponding year as separate column. \n",
    "\n",
    "Whether you go ahead with this is up to you. Just so long as you answer our initial brief: which boroughs of London have seen the greatest house price increase, on average, over the past two decades? "
   ]
  },
  {
   "cell_type": "code",
   "execution_count": 10,
   "metadata": {
    "colab": {},
    "colab_type": "code",
    "id": "e0DF92cyqnu8"
   },
   "outputs": [
    {
     "name": "stdout",
     "output_type": "stream",
     "text": [
      "               Borough Borough Code       Date         Price  Year\n",
      "1   Barking & Dagenham    E09000002 1995-01-01   50460.22660  1995\n",
      "2               Barnet    E09000003 1995-01-01   93284.51832  1995\n",
      "3               Bexley    E09000004 1995-01-01   64958.09036  1995\n",
      "4                Brent    E09000005 1995-01-01   71306.56698  1995\n",
      "5              Bromley    E09000006 1995-01-01   81671.47692  1995\n",
      "6               Camden    E09000007 1995-01-01  120932.88810  1995\n",
      "7              Croydon    E09000008 1995-01-01   69158.16225  1995\n",
      "8               Ealing    E09000009 1995-01-01   79885.89069  1995\n",
      "9              Enfield    E09000010 1995-01-01   72514.69096  1995\n",
      "10           Greenwich    E09000011 1995-01-01   62300.10169  1995\n"
     ]
    },
    {
     "name": "stderr",
     "output_type": "stream",
     "text": [
      "/var/folders/mh/9l7f5q2x0bsc05929xvm2nnh0000gn/T/ipykernel_16725/1165398533.py:1: SettingWithCopyWarning: \n",
      "A value is trying to be set on a copy of a slice from a DataFrame.\n",
      "Try using .loc[row_indexer,col_indexer] = value instead\n",
      "\n",
      "See the caveats in the documentation: https://pandas.pydata.org/pandas-docs/stable/user_guide/indexing.html#returning-a-view-versus-a-copy\n",
      "  properties_final['Year'] = properties_final.loc[:,'Date'].apply(lambda date: date.year)\n"
     ]
    }
   ],
   "source": [
    "properties_final['Year'] = properties_final.loc[:,'Date'].apply(lambda date: date.year)\n",
    "print(properties_final.head(10))"
   ]
  },
  {
   "cell_type": "markdown",
   "metadata": {
    "colab_type": "text",
    "id": "2knuTxAEqoJ4"
   },
   "source": [
    "**3. Modeling**\n",
    "\n",
    "Consider creating a function that will calculate a ratio of house prices, comparing the price of a house in 2018 to the price in 1998.\n",
    "\n",
    "Consider calling this function create_price_ratio.\n",
    "\n",
    "You'd want this function to:\n",
    "1. Take a filter of dfg, specifically where this filter constrains the London_Borough, as an argument. For example, one admissible argument should be: dfg[dfg['London_Borough']=='Camden'].\n",
    "2. Get the Average Price for that Borough, for the years 1998 and 2018.\n",
    "4. Calculate the ratio of the Average Price for 1998 divided by the Average Price for 2018.\n",
    "5. Return that ratio.\n",
    "\n",
    "Once you've written this function, you ultimately want to use it to iterate through all the unique London_Boroughs and work out the ratio capturing the difference of house prices between 1998 and 2018.\n",
    "\n",
    "Bear in mind: you don't have to write a function like this if you don't want to. If you can solve the brief otherwise, then great! \n",
    "\n",
    "***Hint***: This section should test the skills you acquired in:\n",
    "- Python Data Science Toolbox - Part One, all modules"
   ]
  },
  {
   "cell_type": "raw",
   "metadata": {},
   "source": []
  },
  {
   "cell_type": "code",
   "execution_count": 25,
   "metadata": {
    "colab": {},
    "colab_type": "code",
    "id": "cKTyr437UgDa"
   },
   "outputs": [
    {
     "name": "stdout",
     "output_type": "stream",
     "text": [
      "The average price increase for each borough was: 370%\n"
     ]
    },
    {
     "data": {
      "text/plain": [
       "'The borough that saw the highest price increase for a house is Hackney with an increase in price of: 520%'"
      ]
     },
     "execution_count": 25,
     "metadata": {},
     "output_type": "execute_result"
    }
   ],
   "source": [
    "def create_price_ratio(df):\n",
    "    ratio_dict = dict()\n",
    "    boroughs = df['Borough'].unique()\n",
    "    for b in boroughs:\n",
    "        ratio = df[(df['Borough'] == b) & (df['Year'] == 2018)]['Price'].mean() / df[(df['Borough'] == b) & (df['Year'] == 1998)]['Price'].mean()\n",
    "        ratio_dict[b] = ratio\n",
    "    \n",
    "    b_list = [v for v in ratio_dict.values()]\n",
    "    print('The average price increase for each borough was:', (str((round(sum(b_list)/len(b_list), 1)-1)*100))[:-2] + '%')\n",
    "    \n",
    "    max_ratio = max(ratio_dict.values())\n",
    "    for borough, ratio in ratio_dict.items():\n",
    "        if ratio_dict[borough] == max_ratio:\n",
    "            return 'The borough that saw the highest price increase for a house is ' + borough + ' with an increase in price of: ' + str((round(ratio_dict[borough]-1, 1)*100))[:-2] + '%'\n",
    "        \n",
    "create_price_ratio(properties_final)"
   ]
  },
  {
   "cell_type": "markdown",
   "metadata": {
    "colab_type": "text",
    "id": "NzYUI7FxJpgv"
   },
   "source": [
    "# 4. Conclusion\n",
    "What can you conclude? Type out your conclusion below. \n",
    "\n",
    "Look back at your notebook. Think about how you might summarize what you have done, and prepare a quick presentation on it to your mentor at your next meeting. \n",
    "\n",
    "We hope you enjoyed this practical project. It should have consolidated your data hygiene and pandas skills by looking at a real-world problem involving just the kind of dataset you might encounter as a budding data scientist. Congratulations, and looking forward to seeing you at the next step in the course! "
   ]
  },
  {
   "cell_type": "markdown",
   "metadata": {},
   "source": [
    "Data regarding the housing prices in each borough was obtained from the London Datastore, an open-source housing data base. After transposing and renaming some columns, the data was melted so that each observation had 1 row. Areas that were not London boroughs were removed from the analysis. Years were extracted from the data and put in a separate column. A ratio for each borough was made for borough’s mean price in 2018 versus the mean price of that borough in 1998. A dictionary of ratios was made for each of the boroughs. It was then seen that the borough with the highest increase in housing price was Hackney with a house costing 6.2 times the cost in 2018 compared to 1998 or 520% more. The average housing price increase of the other boroughs on the other hand was 4.7 in 2020 compared to 2018 or 370% more."
   ]
  }
 ],
 "metadata": {
  "colab": {
   "collapsed_sections": [],
   "name": "Springboard Data Science Career Track Unit 4 Challenge - Tier 3 Complete .ipynb",
   "provenance": []
  },
  "kernelspec": {
   "display_name": "Python 3 (ipykernel)",
   "language": "python",
   "name": "python3"
  },
  "language_info": {
   "codemirror_mode": {
    "name": "ipython",
    "version": 3
   },
   "file_extension": ".py",
   "mimetype": "text/x-python",
   "name": "python",
   "nbconvert_exporter": "python",
   "pygments_lexer": "ipython3",
   "version": "3.9.12"
  }
 },
 "nbformat": 4,
 "nbformat_minor": 1
}
